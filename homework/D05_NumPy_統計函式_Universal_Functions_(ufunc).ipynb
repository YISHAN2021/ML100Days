{
  "nbformat": 4,
  "nbformat_minor": 0,
  "metadata": {
    "colab": {
      "name": "D05 NumPy 統計函式 Universal Functions (ufunc).ipynb",
      "provenance": [],
      "collapsed_sections": []
    },
    "kernelspec": {
      "name": "python3",
      "display_name": "Python 3"
    }
  },
  "cells": [
    {
      "cell_type": "markdown",
      "metadata": {
        "id": "7M0xoraav7ci"
      },
      "source": [
        "作業目標\r\n",
        "計算有缺失值的資料，統計量實作\r\n",
        "\r\n",
        "作業重點\r\n",
        "當遇到缺失值有函式可以處理，不須額外寫程式刪除\r\n",
        "計算統計量時不能出現缺失值\r\n",
        "\r\n",
        "題目:\r\n",
        ">english_score = np.array([55,89,76,65,48,70])\r\n",
        "\r\n",
        ">math_score = np.array([60,85,60,68,np.nan,60])\r\n",
        "\r\n",
        ">chinese_score = np.array([65,90,82,72,66,77])\r\n",
        "\r\n",
        "上3列共六位同學的英文、數學、國文成績，第一個元素代表第一位同學，舉例第一位同學英文55分、數學60分、國文65分，今天第五位同學因某原因沒來考試，導致數學成績缺值，運用上列數據回答下列問題。\r\n",
        "\r\n",
        "請計算各科成績平均、最大值、最小值、標準差，其中數學缺一筆資料可忽略?\r\n",
        "第五位同學補考數學後成績為55，請計算補考後數學成績平均、最大值、最小值、標準差?\r\n",
        "用補考後資料找出與國文成績相關係數最高的學科?"
      ]
    },
    {
      "cell_type": "code",
      "metadata": {
        "colab": {
          "base_uri": "https://localhost:8080/"
        },
        "id": "F23LNUYLuRa0",
        "outputId": "63f2b531-71e4-4655-ac95-141240663160"
      },
      "source": [
        "#1. 請計算各科成績平均、最大值、最小值、標準差，其中數學缺一筆資料可忽略?\r\n",
        "import numpy as np\r\n",
        "english_score = np.array([55,89,76,65,48,70])\r\n",
        "math_score = np.array([60,85,60,68,np.nan,60])\r\n",
        "chinese_score = np.array([65,90,82,72,66,77])\r\n",
        "print(\"英文成績平均值為%d分、最大值為%d分、最小值為%d分\" %(np.nanmean(english_score),np.amax(english_score),np.amin(english_score)))\r\n",
        "print(\"數學成績平均值為%d分、最大值為%d分、最小值為%d分\" %(np.nanmean(math_score),np.nanmax(math_score),np.nanmin(math_score)))\r\n",
        "print(\"國文成績平均值為%d分、最大值為%d分、最小值為%d分\" %(np.nanmean(chinese_score),np.amax(chinese_score),np.amin(chinese_score)))"
      ],
      "execution_count": 5,
      "outputs": [
        {
          "output_type": "stream",
          "text": [
            "英文成績平均值為67分、最大值為89分、最小值為48分\n",
            "數學成績平均值為66分、最大值為85分、最小值為60分\n",
            "國文成績平均值為75分、最大值為90分、最小值為65分\n"
          ],
          "name": "stdout"
        }
      ]
    },
    {
      "cell_type": "code",
      "metadata": {
        "colab": {
          "base_uri": "https://localhost:8080/"
        },
        "id": "bs6nQlWKwItx",
        "outputId": "54f7a3f7-50cd-4b1a-ab6e-7b2834298a08"
      },
      "source": [
        "#2. 第五位同學補考數學後成績為55，請計算補考後數學成績平均、最大值、最小值、標準差?\r\n",
        "import numpy as np\r\n",
        "math_score = np.array([60,85,60,68,np.nan,60])\r\n",
        "math_score[4]=eval(input(\"請輸入補考後的成績:\"))\r\n",
        "print(\"數學成績平均值為%d分、最大值為%d分、最小值為%d分\" %(np.nanmean(math_score),np.nanmax(math_score),np.nanmin(math_score)))"
      ],
      "execution_count": 11,
      "outputs": [
        {
          "output_type": "stream",
          "text": [
            "請輸入補考後的成績:55\n",
            "[60. 85. 60. 68. 55. 60.]\n",
            "數學成績平均值為64分、最大值為85分、最小值為55分\n"
          ],
          "name": "stdout"
        }
      ]
    },
    {
      "cell_type": "code",
      "metadata": {
        "colab": {
          "base_uri": "https://localhost:8080/"
        },
        "id": "6TuiDnCEwKlv",
        "outputId": "a8d9fe27-1270-4bcb-8b10-535bf929506c"
      },
      "source": [
        "#3. 用補考後資料找出與國文成績相關係數最高的學科?\r\n",
        "import numpy as np\r\n",
        "english_score = np.array([55,89,76,65,48,70])\r\n",
        "math_score = np.array([60,85,60,68,np.nan,60])\r\n",
        "chinese_score = np.array([65,90,82,72,66,77])\r\n",
        "math_score[4]=eval(input(\"請輸入補考後的成績:\"))\r\n",
        "print(\"國文成績和數學成績的相關係數=%d\" %(np.correlate(chinese_score, math_score)))\r\n",
        "print(\"國文成績和英文成績的相關係數=%d\" %(np.correlate(chinese_score, english_score)))\r\n",
        "if np.correlate(chinese_score, math_score)>np.correlate(chinese_score, english_score):\r\n",
        "  print(\"國文成績和數學成績的相關係數最高\")\r\n",
        "else:\r\n",
        "  print(\"國文成績和英文成績的相關係數最高\")\r\n"
      ],
      "execution_count": 24,
      "outputs": [
        {
          "output_type": "stream",
          "text": [
            "請輸入補考後的成績:55\n",
            "國文成績和數學成績的相關係數=29616\n",
            "國文成績和英文成績的相關係數=31055\n",
            "國文成績和英文成績的相關係數最高\n"
          ],
          "name": "stdout"
        }
      ]
    }
  ]
}