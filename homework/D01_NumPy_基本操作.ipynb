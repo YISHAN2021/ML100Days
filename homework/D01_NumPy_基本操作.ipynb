{
  "nbformat": 4,
  "nbformat_minor": 0,
  "metadata": {
    "colab": {
      "name": " D01_NumPy 基本操作.ipynb",
      "provenance": []
    },
    "kernelspec": {
      "name": "python3",
      "display_name": "Python 3"
    }
  },
  "cells": [
    {
      "cell_type": "markdown",
      "metadata": {
        "id": "y7l17b43g8Uq"
      },
      "source": [
        "# D01_NumPy 基本操作"
      ]
    },
    {
      "cell_type": "code",
      "metadata": {
        "colab": {
          "base_uri": "https://localhost:8080/",
          "height": 35
        },
        "id": "12Y3MwG-gnuC",
        "outputId": "49c2adeb-06dc-4b1e-8aab-eaa81e09aab5"
      },
      "source": [
        "import numpy as np\r\n",
        "np.__version__"
      ],
      "execution_count": null,
      "outputs": [
        {
          "output_type": "execute_result",
          "data": {
            "application/vnd.google.colaboratory.intrinsic+json": {
              "type": "string"
            },
            "text/plain": [
              "'1.19.5'"
            ]
          },
          "metadata": {
            "tags": []
          },
          "execution_count": 2
        }
      ]
    },
    {
      "cell_type": "markdown",
      "metadata": {
        "id": "dZRbBC2w5ARv"
      },
      "source": [
        "#1.生成一個等差數列，首數為0，尾數為20，公差為1的數列。"
      ]
    },
    {
      "cell_type": "code",
      "metadata": {
        "colab": {
          "base_uri": "https://localhost:8080/"
        },
        "id": "SMgj50fE5Bz0",
        "outputId": "5db8ee5b-e8e4-4ece-a19d-8fd08ea61b19"
      },
      "source": [
        "array=np.arange(0, 21, 1)\r\n",
        "print(array)"
      ],
      "execution_count": null,
      "outputs": [
        {
          "output_type": "stream",
          "text": [
            "[ 0  1  2  3  4  5  6  7  8  9 10 11 12 13 14 15 16 17 18 19 20]\n"
          ],
          "name": "stdout"
        }
      ]
    },
    {
      "cell_type": "markdown",
      "metadata": {
        "id": "leYpZdzD5Rn_"
      },
      "source": [
        "#2.呈上題，將以上數列取出偶數。"
      ]
    },
    {
      "cell_type": "code",
      "metadata": {
        "colab": {
          "base_uri": "https://localhost:8080/"
        },
        "id": "V7Ae65fD5TVz",
        "outputId": "6c4ccc93-b181-4bd1-c29a-8fb08b208b32"
      },
      "source": [
        "array=np.arange(0, 21, 1)\r\n",
        "#print(array)\r\n",
        "even=[]\r\n",
        "for i in range(0,21):\r\n",
        "  if array[i] %2==0:\r\n",
        "    even.append(array[i])\r\n",
        "  else: \r\n",
        "    continue\r\n",
        "print(even) "
      ],
      "execution_count": null,
      "outputs": [
        {
          "output_type": "stream",
          "text": [
            "[0, 2, 4, 6, 8, 10, 12, 14, 16, 18, 20]\n"
          ],
          "name": "stdout"
        }
      ]
    },
    {
      "cell_type": "markdown",
      "metadata": {
        "id": "jxNSBsWX5VfD"
      },
      "source": [
        "#3.呈1題，將數列取出3的倍數。"
      ]
    },
    {
      "cell_type": "code",
      "metadata": {
        "colab": {
          "base_uri": "https://localhost:8080/"
        },
        "id": "zODK-G1v5WQT",
        "outputId": "103a8d5c-e92b-4633-aa28-dabac429987a"
      },
      "source": [
        "array=np.arange(0, 21, 1)\r\n",
        "#print(array)\r\n",
        "multiple3=[]\r\n",
        "for i in range(0,21):\r\n",
        "  if array[i] %3==0:\r\n",
        "    multiple3.append(array[i])\r\n",
        "  else: \r\n",
        "    continue\r\n",
        "print(multiple3) "
      ],
      "execution_count": null,
      "outputs": [
        {
          "output_type": "stream",
          "text": [
            "[0, 3, 6, 9, 12, 15, 18]\n"
          ],
          "name": "stdout"
        }
      ]
    }
  ]
}