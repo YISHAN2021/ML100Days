{
  "nbformat": 4,
  "nbformat_minor": 0,
  "metadata": {
    "colab": {
      "name": "D03 NumPy 陣列運算及數學 Universal Functions (ufunc).ipynb",
      "provenance": [],
      "collapsed_sections": []
    },
    "kernelspec": {
      "name": "python3",
      "display_name": "Python 3"
    }
  },
  "cells": [
    {
      "cell_type": "markdown",
      "metadata": {
        "id": "equnugkPJXxx"
      },
      "source": [
        "題目:\r\n",
        "運用投影片中的分貝公式回答下列問題。\r\n",
        "(正常的人耳能夠聽到最微弱的聲音叫作「聽覺閾」為 20 個微巴斯卡 (縮寫為 μPa) ，以聲壓 20μPa 定義為 0 分貝，表示 V0 為 20μPa，其餘聲壓為 V1(微巴斯卡)，例如將 V1 帶入 200μPa，V0 為 20μPa，可以得到 20GdB。)\r\n",
        "\r\n",
        ">1.正常的談話的聲壓為20000微巴斯卡，請問多少分貝?\r\n",
        "\r\n",
        ">2.30分貝的聲壓會是50分貝的幾倍?"
      ]
    },
    {
      "cell_type": "code",
      "metadata": {
        "colab": {
          "base_uri": "https://localhost:8080/"
        },
        "id": "tGC0IGICJXHP",
        "outputId": "1f118cff-3dd4-4c5d-bbd2-782c3cc40159"
      },
      "source": [
        "#1.正常的談話的聲壓為20000微巴斯卡，請問多少分貝?\r\n",
        "V0=20\r\n",
        "V1=20000\r\n",
        "import numpy as np \r\n",
        "GdB=20*np.log10(V1/V0)\r\n",
        "print(\"20000微巴斯卡是 %d 分貝\" % GdB)"
      ],
      "execution_count": null,
      "outputs": [
        {
          "output_type": "stream",
          "text": [
            "20000微巴斯卡是 60 分貝\n"
          ],
          "name": "stdout"
        }
      ]
    },
    {
      "cell_type": "code",
      "metadata": {
        "colab": {
          "base_uri": "https://localhost:8080/"
        },
        "id": "5ATwvCyDLG06",
        "outputId": "b9bb1d2a-c875-49b6-dd92-a8c6c3e70176"
      },
      "source": [
        "#2.30分貝的聲壓會是50分貝的幾倍?\r\n",
        "\r\n",
        "import numpy as np \r\n",
        "#30=20*np.log10(V1/20)\r\n",
        "#30=20*(np.log(V1)-np.log(20))\r\n",
        "nplogV1=30/20+np.log10(20)\r\n",
        "nplogV2=50/20+np.log10(20)\r\n",
        "print( \"30分貝的聲壓是50分貝的 %.2f 倍\" % (nplogV1/nplogV2))"
      ],
      "execution_count": null,
      "outputs": [
        {
          "output_type": "stream",
          "text": [
            "30分貝的聲壓是50分貝的 0.74 倍\n"
          ],
          "name": "stdout"
        }
      ]
    }
  ]
}