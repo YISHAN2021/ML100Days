{
  "nbformat": 4,
  "nbformat_minor": 0,
  "metadata": {
    "colab": {
      "name": "D04 NumPy 陣列邏輯函式 (Logic functions).ipynb",
      "provenance": [],
      "collapsed_sections": []
    },
    "kernelspec": {
      "name": "python3",
      "display_name": "Python 3"
    }
  },
  "cells": [
    {
      "cell_type": "markdown",
      "metadata": {
        "id": "Qs-Sz04qmxao"
      },
      "source": [
        "作業目標\r\n",
        "熟悉邏輯運算\r\n",
        "作業重點\r\n",
        "五大類邏輯函式與其對應的函式操作\r\n",
        "\r\n",
        "題目:\r\n",
        ">english_score = np.array([55,89,76,65,48,70])\r\n",
        "\r\n",
        ">math_score = np.array([60,85,60,68,55,60])\r\n",
        "\r\n",
        ">chinese_score = np.array([65,90,82,72,66,77])\r\n",
        "\r\n",
        "上3列共六位同學的英文、數學、國文成績，第一個元素代表第一位同學，舉例第一位同學英文55分、數學60分、國文65分，運用上列數據回答下列問題。\r\n",
        "\r\n",
        "有多少學生英文成績比數學成績高?\r\n",
        "是否全班同學最高分都是國文?"
      ]
    },
    {
      "cell_type": "code",
      "metadata": {
        "colab": {
          "base_uri": "https://localhost:8080/"
        },
        "id": "-HVzvZfnU4Mg",
        "outputId": "d438ba21-3168-4024-8c24-98f3be51f8d4"
      },
      "source": [
        "#1.有多少學生英文成績比數學成績高?\r\n",
        "import numpy as np\r\n",
        "english_score = np.array([55,89,76,65,48,70])\r\n",
        "math_score = np.array([60,85,60,68,55,60])\r\n",
        "chinese_score = np.array([65,90,82,72,66,77])\r\n",
        "arr=list(np.greater(english_score[0:len(english_score)], math_score[0:len(math_score)]))\r\n",
        "print(\"有%d個學生英文成績比數學成績高\" %arr.count(True))\r\n"
      ],
      "execution_count": 28,
      "outputs": [
        {
          "output_type": "stream",
          "text": [
            "有3個學生英文成績比數學成績高\n"
          ],
          "name": "stdout"
        }
      ]
    },
    {
      "cell_type": "code",
      "metadata": {
        "colab": {
          "base_uri": "https://localhost:8080/"
        },
        "id": "yC3iOX4MnNV1",
        "outputId": "a43a2c2c-f484-4e2f-e17b-97bb85b8e5c4"
      },
      "source": [
        "#2.是否全班同學最高分都是國文?\r\n",
        "import numpy as np\r\n",
        "english_score = np.array([55,89,76,65,48,70])\r\n",
        "math_score = np.array([60,85,60,68,55,60])\r\n",
        "chinese_score = np.array([65,90,82,72,66,77])\r\n",
        "arr1=list(np.greater(chinese_score[0:len(chinese_score)], math_score[0:len(math_score)]))\r\n",
        "arr2=list(np.greater(chinese_score[0:len(chinese_score)], english_score[0:len(english_score)]))\r\n",
        "if arr1.count(True)==arr2.count(True):\r\n",
        "  print(\"全班同學最高分都是國文\")\r\n",
        "else:\r\n",
        "  print(\"全班同學最高分並非都是國文\")"
      ],
      "execution_count": 36,
      "outputs": [
        {
          "output_type": "stream",
          "text": [
            "全班同學最高分都是國文\n"
          ],
          "name": "stdout"
        }
      ]
    }
  ]
}