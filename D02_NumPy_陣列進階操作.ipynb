{
  "nbformat": 4,
  "nbformat_minor": 0,
  "metadata": {
    "colab": {
      "name": "D02 NumPy 陣列進階操作.ipynb",
      "provenance": [],
      "authorship_tag": "ABX9TyPwTxXDm8/cH1aXvH7x094b",
      "include_colab_link": true
    },
    "kernelspec": {
      "name": "python3",
      "display_name": "Python 3"
    }
  },
  "cells": [
    {
      "cell_type": "markdown",
      "metadata": {
        "id": "view-in-github",
        "colab_type": "text"
      },
      "source": [
        "<a href=\"https://colab.research.google.com/github/YISHAN2021/ML100Days/blob/main/D02_NumPy_%E9%99%A3%E5%88%97%E9%80%B2%E9%9A%8E%E6%93%8D%E4%BD%9C.ipynb\" target=\"_parent\"><img src=\"https://colab.research.google.com/assets/colab-badge.svg\" alt=\"Open In Colab\"/></a>"
      ]
    },
    {
      "cell_type": "markdown",
      "metadata": {
        "id": "mBf8Z_DRImcA"
      },
      "source": [
        "題目:\r\n",
        ">1.將下列陣列(array1)，轉成維度為(5X6)的array，順序按列填充。(hint:order=\"F\")\r\n",
        "\r\n",
        ">2.呈上題的array，找出被6除餘1的數的索引"
      ]
    },
    {
      "cell_type": "code",
      "metadata": {
        "colab": {
          "base_uri": "https://localhost:8080/"
        },
        "id": "1rQqkHaLHyBR",
        "outputId": "46f77c69-a035-490d-fe8c-0e0dc1d4d86f"
      },
      "source": [
        "import numpy as np\r\n",
        "array1 = np.array(range(30)).reshape((5, -1))\r\n",
        "print(array1,end=\"\\n\\n\")\r\n",
        "np.where(array1%6 == 1)\r\n"
      ],
      "execution_count": null,
      "outputs": [
        {
          "output_type": "stream",
          "text": [
            "[[ 0  1  2  3  4  5]\n",
            " [ 6  7  8  9 10 11]\n",
            " [12 13 14 15 16 17]\n",
            " [18 19 20 21 22 23]\n",
            " [24 25 26 27 28 29]]\n",
            "\n"
          ],
          "name": "stdout"
        },
        {
          "output_type": "execute_result",
          "data": {
            "text/plain": [
              "(array([0, 1, 2, 3, 4]), array([1, 1, 1, 1, 1]))"
            ]
          },
          "metadata": {
            "tags": []
          },
          "execution_count": 14
        }
      ]
    }
  ]
}